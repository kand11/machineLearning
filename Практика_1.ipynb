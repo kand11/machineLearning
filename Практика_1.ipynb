{
  "nbformat": 4,
  "nbformat_minor": 0,
  "metadata": {
    "colab": {
      "provenance": [],
      "collapsed_sections": [
        "tm8i1hZ4A5lu",
        "eiFQUgHECLP_",
        "YmWlNDdjDh7G",
        "B1bbdRrWD7iZ"
      ],
      "include_colab_link": true
    },
    "kernelspec": {
      "name": "python3",
      "display_name": "Python 3"
    },
    "language_info": {
      "name": "python"
    }
  },
  "cells": [
    {
      "cell_type": "markdown",
      "metadata": {
        "id": "view-in-github",
        "colab_type": "text"
      },
      "source": [
        "<a href=\"https://colab.research.google.com/github/kand11/machineLearning/blob/main/%D0%9F%D1%80%D0%B0%D0%BA%D1%82%D0%B8%D0%BA%D0%B0_1.ipynb\" target=\"_parent\"><img src=\"https://colab.research.google.com/assets/colab-badge.svg\" alt=\"Open In Colab\"/></a>"
      ]
    },
    {
      "cell_type": "markdown",
      "source": [
        "# МЛ Практика 1\n",
        "## Обзор занятий: Чем предстоит заниматься\n",
        "Цели сессии:\n",
        "\n",
        "1. Ознакомление с основными понятиями машинного обучения и структурой практических занятий.\n",
        "2. Представление доступных наборов данных для последующих упражнений.\n",
        "3. Формирование списка участников и распределение ролей (при необходимости).\n",
        "4. Практическое освоение методов описательного анализа данных.\n",
        "5. Понимание типов данных и их важности в контексте машинного обучения.\n",
        "План занятий:\n",
        "\n",
        "1. Введение и обзор целей курса.\n",
        "2. Представление наборов данных.\n",
        "3. Формирование списка студентов.\n",
        "4. Совместный разбор выбранного набора данных с обсуждением вопросов.\n",
        "5. Задача 1: Описание набора данных и определение типов данных.\n",
        "6. Пример статистического разбора на основе wine.csv.\n",
        "7. Обсуждение типов переменных и их определения по статистике.\n",
        "8. Вопросы и ответы, обсуждение домашних заданий."
      ],
      "metadata": {
        "id": "tcYorCKH80fp"
      }
    },
    {
      "cell_type": "markdown",
      "source": [
        "# Наборы данных по вариантам\n",
        "\n",
        "https://disk.yandex.ru/i/nY93FrjzthRO2Q"
      ],
      "metadata": {
        "id": "rudyRMMW-U2i"
      }
    },
    {
      "cell_type": "markdown",
      "source": [
        "[github](https://github.com/Letch49/ML-vvsu-2025)"
      ],
      "metadata": {
        "id": "NdlLoSu8EhPc"
      }
    },
    {
      "cell_type": "markdown",
      "source": [],
      "metadata": {
        "id": "sHEOFvmzH6nn"
      }
    },
    {
      "cell_type": "markdown",
      "source": [
        "# Наборы данных по вариантам\n",
        "\n",
        "| №  | Название файла      | Уровень сложности (1-5) | Обоснование                                                                                         | Ссылка                                                              |\n",
        "|----|---------------------|-------------------------|-----------------------------------------------------------------------------------------------------|---------------------------------------------------------------------|\n",
        "| 1  | wine.csv            | 1                       | Базовый набор данных из scikit-learn с небольшим количеством признаков и простой структурой.          | [wine.csv](https://disk.yandex.ru/d/OELXhKkfsWTJuw)                 |\n",
        "| 2  | diamond.csv         | 2                       | Набор данных со средним количеством признаков (например, караты, цвет, огранка) и четкими целями.     | [diamond.csv](https://disk.yandex.ru/d/7u9rI1RqWPQD7Q)              |\n",
        "| 3  | employee.csv        | 2                       | Типичные данные о сотрудниках с сочетанием числовых и категориальных признаков.                      | [employee.csv](https://disk.yandex.ru/d/b9kxHcJ8vviXWg)             |\n",
        "| 4  | heart.csv           | 2                       | Стандартный медицинский набор данных для задач классификации, хорошо изучен и документирован.         | [heart.csv](https://disk.yandex.ru/d/QNT6pUh6G3Eeqw)                |\n",
        "| 5  | heart_disease.csv   | 3                       | Более специализированный медицинский набор данных, возможно с большим количеством признаков.          | [heart_disease.csv](https://disk.yandex.ru/d/jHLFkdLICQIilQ)        |\n",
        "| 6  | hepatitis.csv       | 3                       | Медицинский набор данных с потенциально сложными признаками и необходимостью продвинутой обработки.   | [hepatitis.csv](https://disk.yandex.ru/d/0fuKz_gWwMJGqg)            |\n",
        "| 7  | income.csv          | 3                       | Набор данных для прогнозирования дохода, может содержать разнообразные и сложные признаки.            | [income.csv](https://disk.yandex.ru/d/pjFb9JhG7AZ3Jg)               |\n",
        "| 8  | insurance.csv       | 3                       | Страховые данные с множеством признаков, включая категориальные и числовые, возможны сложности в обработке. | [insurance.csv](https://disk.yandex.ru/d/WNdgMUGvgsPKgA)           |\n",
        "| 9  | france.csv          | 3                       | Данные, связанные с Францией, вероятно, экономические или демографические, требующие комплексного анализа. | [france.csv](https://disk.yandex.ru/d/ts48WLo7TazEvg)             |\n",
        "| 10 | germany.csv         | 3                       | Аналогично france.csv, данные о Германии могут быть комплексными и многогранными.                     | [germany.csv](https://disk.yandex.ru/d/UDxaNz46HwcFsw)              |\n",
        "| 11 | jucy.csv            | 3                       | Предполагается, что это специализированный или менее известный набор данных, возможны неопределенности в структуре и сложности. |  [jucy.csv](https://disk.yandex.ru/d/omBOncVnzElRoA)                                                                 |\n"
      ],
      "metadata": {
        "id": "Cg4B0bp8_BNQ"
      }
    },
    {
      "cell_type": "markdown",
      "source": [
        "**p.s. wine датасет не берем**, это будет читерство, такого не одобряем"
      ],
      "metadata": {
        "id": "CYwJ2QAPEzpq"
      }
    },
    {
      "cell_type": "markdown",
      "source": [
        "## Описание:\n",
        "В этом разделе вы загрузите набор данных wine.csv, ознакомитесь с его структурой и проведёте первичный обзор."
      ],
      "metadata": {
        "id": "Eho9OVlR_mar"
      }
    },
    {
      "cell_type": "code",
      "source": [
        "# импортируем библиотеки\n",
        "import pandas as pd\n",
        "import matplotlib.pyplot as plt\n",
        "import seaborn as sns"
      ],
      "metadata": {
        "id": "cAklc2-4_hag"
      },
      "execution_count": 1,
      "outputs": []
    },
    {
      "cell_type": "markdown",
      "source": [
        "```p.s. а если либы нет, делаем (ошибка импорта например) ```"
      ],
      "metadata": {
        "id": "nB8lKsq8FTCt"
      }
    },
    {
      "cell_type": "code",
      "source": [
        "!pip install seaborn # или название другой либы, загуглите how to install packages using pip"
      ],
      "metadata": {
        "id": "iuqbi9WXFZ7A",
        "outputId": "964c19f8-eb56-49ec-fadc-54356c070ef0",
        "colab": {
          "base_uri": "https://localhost:8080/"
        }
      },
      "execution_count": 2,
      "outputs": [
        {
          "output_type": "stream",
          "name": "stdout",
          "text": [
            "Requirement already satisfied: seaborn in /usr/local/lib/python3.10/dist-packages (0.13.1)\n",
            "Requirement already satisfied: numpy!=1.24.0,>=1.20 in /usr/local/lib/python3.10/dist-packages (from seaborn) (1.26.4)\n",
            "Requirement already satisfied: pandas>=1.2 in /usr/local/lib/python3.10/dist-packages (from seaborn) (2.1.4)\n",
            "Requirement already satisfied: matplotlib!=3.6.1,>=3.4 in /usr/local/lib/python3.10/dist-packages (from seaborn) (3.7.1)\n",
            "Requirement already satisfied: contourpy>=1.0.1 in /usr/local/lib/python3.10/dist-packages (from matplotlib!=3.6.1,>=3.4->seaborn) (1.3.0)\n",
            "Requirement already satisfied: cycler>=0.10 in /usr/local/lib/python3.10/dist-packages (from matplotlib!=3.6.1,>=3.4->seaborn) (0.12.1)\n",
            "Requirement already satisfied: fonttools>=4.22.0 in /usr/local/lib/python3.10/dist-packages (from matplotlib!=3.6.1,>=3.4->seaborn) (4.53.1)\n",
            "Requirement already satisfied: kiwisolver>=1.0.1 in /usr/local/lib/python3.10/dist-packages (from matplotlib!=3.6.1,>=3.4->seaborn) (1.4.7)\n",
            "Requirement already satisfied: packaging>=20.0 in /usr/local/lib/python3.10/dist-packages (from matplotlib!=3.6.1,>=3.4->seaborn) (24.1)\n",
            "Requirement already satisfied: pillow>=6.2.0 in /usr/local/lib/python3.10/dist-packages (from matplotlib!=3.6.1,>=3.4->seaborn) (10.4.0)\n",
            "Requirement already satisfied: pyparsing>=2.3.1 in /usr/local/lib/python3.10/dist-packages (from matplotlib!=3.6.1,>=3.4->seaborn) (3.1.4)\n",
            "Requirement already satisfied: python-dateutil>=2.7 in /usr/local/lib/python3.10/dist-packages (from matplotlib!=3.6.1,>=3.4->seaborn) (2.8.2)\n",
            "Requirement already satisfied: pytz>=2020.1 in /usr/local/lib/python3.10/dist-packages (from pandas>=1.2->seaborn) (2024.2)\n",
            "Requirement already satisfied: tzdata>=2022.1 in /usr/local/lib/python3.10/dist-packages (from pandas>=1.2->seaborn) (2024.1)\n",
            "Requirement already satisfied: six>=1.5 in /usr/local/lib/python3.10/dist-packages (from python-dateutil>=2.7->matplotlib!=3.6.1,>=3.4->seaborn) (1.16.0)\n"
          ]
        }
      ]
    },
    {
      "cell_type": "markdown",
      "source": [
        "Описание:\n",
        "В этом разделе вы загрузите набор данных wine.csv, ознакомитесь с его структурой и проведёте первичный обзор."
      ],
      "metadata": {
        "id": "gkrZd1Sf_j-4"
      }
    },
    {
      "cell_type": "code",
      "source": [
        "PATH_TO_FILE: str = '/content/france.csv' # Загрузка набора данных\n",
        "## p.s. в левой панеле нажать на папку и перетащить туда файл,\n",
        "## а wince.csv заменить на свой вариант (ПКМ -> копировать путь)\n",
        "\n",
        "df = pd.read_csv(PATH_TO_FILE) # функция превращение данных из CSV в DataFrame"
      ],
      "metadata": {
        "id": "_AxEco9xAAvN"
      },
      "execution_count": 34,
      "outputs": []
    },
    {
      "cell_type": "code",
      "source": [
        "# Вывод первых 5 строк\n",
        "df.head()"
      ],
      "metadata": {
        "colab": {
          "base_uri": "https://localhost:8080/",
          "height": 204
        },
        "id": "BY0SAfx6AWXB",
        "outputId": "c6f64b9f-6e36-492c-98ec-be80c27710ec"
      },
      "execution_count": null,
      "outputs": [
        {
          "output_type": "execute_result",
          "data": {
            "text/plain": [
              "  InvoiceNo StockCode                      Description  Quantity  \\\n",
              "0    536370     22728        ALARM CLOCK BAKELIKE PINK        24   \n",
              "1    536370     22727        ALARM CLOCK BAKELIKE RED         24   \n",
              "2    536370     22726       ALARM CLOCK BAKELIKE GREEN        12   \n",
              "3    536370     21724  PANDA AND BUNNIES STICKER SHEET        12   \n",
              "4    536370     21883                 STARS GIFT TAPE         24   \n",
              "\n",
              "      InvoiceDate  UnitPrice  CustomerID Country  \n",
              "0  12/1/2010 8:45       3.75     12583.0  France  \n",
              "1  12/1/2010 8:45       3.75     12583.0  France  \n",
              "2  12/1/2010 8:45       3.75     12583.0  France  \n",
              "3  12/1/2010 8:45       0.85     12583.0  France  \n",
              "4  12/1/2010 8:45       0.65     12583.0  France  "
            ],
            "text/html": [
              "\n",
              "  <div id=\"df-4504912c-b8ac-4efc-87ee-556ac4c2b6b3\" class=\"colab-df-container\">\n",
              "    <div>\n",
              "<style scoped>\n",
              "    .dataframe tbody tr th:only-of-type {\n",
              "        vertical-align: middle;\n",
              "    }\n",
              "\n",
              "    .dataframe tbody tr th {\n",
              "        vertical-align: top;\n",
              "    }\n",
              "\n",
              "    .dataframe thead th {\n",
              "        text-align: right;\n",
              "    }\n",
              "</style>\n",
              "<table border=\"1\" class=\"dataframe\">\n",
              "  <thead>\n",
              "    <tr style=\"text-align: right;\">\n",
              "      <th></th>\n",
              "      <th>InvoiceNo</th>\n",
              "      <th>StockCode</th>\n",
              "      <th>Description</th>\n",
              "      <th>Quantity</th>\n",
              "      <th>InvoiceDate</th>\n",
              "      <th>UnitPrice</th>\n",
              "      <th>CustomerID</th>\n",
              "      <th>Country</th>\n",
              "    </tr>\n",
              "  </thead>\n",
              "  <tbody>\n",
              "    <tr>\n",
              "      <th>0</th>\n",
              "      <td>536370</td>\n",
              "      <td>22728</td>\n",
              "      <td>ALARM CLOCK BAKELIKE PINK</td>\n",
              "      <td>24</td>\n",
              "      <td>12/1/2010 8:45</td>\n",
              "      <td>3.75</td>\n",
              "      <td>12583.0</td>\n",
              "      <td>France</td>\n",
              "    </tr>\n",
              "    <tr>\n",
              "      <th>1</th>\n",
              "      <td>536370</td>\n",
              "      <td>22727</td>\n",
              "      <td>ALARM CLOCK BAKELIKE RED</td>\n",
              "      <td>24</td>\n",
              "      <td>12/1/2010 8:45</td>\n",
              "      <td>3.75</td>\n",
              "      <td>12583.0</td>\n",
              "      <td>France</td>\n",
              "    </tr>\n",
              "    <tr>\n",
              "      <th>2</th>\n",
              "      <td>536370</td>\n",
              "      <td>22726</td>\n",
              "      <td>ALARM CLOCK BAKELIKE GREEN</td>\n",
              "      <td>12</td>\n",
              "      <td>12/1/2010 8:45</td>\n",
              "      <td>3.75</td>\n",
              "      <td>12583.0</td>\n",
              "      <td>France</td>\n",
              "    </tr>\n",
              "    <tr>\n",
              "      <th>3</th>\n",
              "      <td>536370</td>\n",
              "      <td>21724</td>\n",
              "      <td>PANDA AND BUNNIES STICKER SHEET</td>\n",
              "      <td>12</td>\n",
              "      <td>12/1/2010 8:45</td>\n",
              "      <td>0.85</td>\n",
              "      <td>12583.0</td>\n",
              "      <td>France</td>\n",
              "    </tr>\n",
              "    <tr>\n",
              "      <th>4</th>\n",
              "      <td>536370</td>\n",
              "      <td>21883</td>\n",
              "      <td>STARS GIFT TAPE</td>\n",
              "      <td>24</td>\n",
              "      <td>12/1/2010 8:45</td>\n",
              "      <td>0.65</td>\n",
              "      <td>12583.0</td>\n",
              "      <td>France</td>\n",
              "    </tr>\n",
              "  </tbody>\n",
              "</table>\n",
              "</div>\n",
              "    <div class=\"colab-df-buttons\">\n",
              "\n",
              "  <div class=\"colab-df-container\">\n",
              "    <button class=\"colab-df-convert\" onclick=\"convertToInteractive('df-4504912c-b8ac-4efc-87ee-556ac4c2b6b3')\"\n",
              "            title=\"Convert this dataframe to an interactive table.\"\n",
              "            style=\"display:none;\">\n",
              "\n",
              "  <svg xmlns=\"http://www.w3.org/2000/svg\" height=\"24px\" viewBox=\"0 -960 960 960\">\n",
              "    <path d=\"M120-120v-720h720v720H120Zm60-500h600v-160H180v160Zm220 220h160v-160H400v160Zm0 220h160v-160H400v160ZM180-400h160v-160H180v160Zm440 0h160v-160H620v160ZM180-180h160v-160H180v160Zm440 0h160v-160H620v160Z\"/>\n",
              "  </svg>\n",
              "    </button>\n",
              "\n",
              "  <style>\n",
              "    .colab-df-container {\n",
              "      display:flex;\n",
              "      gap: 12px;\n",
              "    }\n",
              "\n",
              "    .colab-df-convert {\n",
              "      background-color: #E8F0FE;\n",
              "      border: none;\n",
              "      border-radius: 50%;\n",
              "      cursor: pointer;\n",
              "      display: none;\n",
              "      fill: #1967D2;\n",
              "      height: 32px;\n",
              "      padding: 0 0 0 0;\n",
              "      width: 32px;\n",
              "    }\n",
              "\n",
              "    .colab-df-convert:hover {\n",
              "      background-color: #E2EBFA;\n",
              "      box-shadow: 0px 1px 2px rgba(60, 64, 67, 0.3), 0px 1px 3px 1px rgba(60, 64, 67, 0.15);\n",
              "      fill: #174EA6;\n",
              "    }\n",
              "\n",
              "    .colab-df-buttons div {\n",
              "      margin-bottom: 4px;\n",
              "    }\n",
              "\n",
              "    [theme=dark] .colab-df-convert {\n",
              "      background-color: #3B4455;\n",
              "      fill: #D2E3FC;\n",
              "    }\n",
              "\n",
              "    [theme=dark] .colab-df-convert:hover {\n",
              "      background-color: #434B5C;\n",
              "      box-shadow: 0px 1px 3px 1px rgba(0, 0, 0, 0.15);\n",
              "      filter: drop-shadow(0px 1px 2px rgba(0, 0, 0, 0.3));\n",
              "      fill: #FFFFFF;\n",
              "    }\n",
              "  </style>\n",
              "\n",
              "    <script>\n",
              "      const buttonEl =\n",
              "        document.querySelector('#df-4504912c-b8ac-4efc-87ee-556ac4c2b6b3 button.colab-df-convert');\n",
              "      buttonEl.style.display =\n",
              "        google.colab.kernel.accessAllowed ? 'block' : 'none';\n",
              "\n",
              "      async function convertToInteractive(key) {\n",
              "        const element = document.querySelector('#df-4504912c-b8ac-4efc-87ee-556ac4c2b6b3');\n",
              "        const dataTable =\n",
              "          await google.colab.kernel.invokeFunction('convertToInteractive',\n",
              "                                                    [key], {});\n",
              "        if (!dataTable) return;\n",
              "\n",
              "        const docLinkHtml = 'Like what you see? Visit the ' +\n",
              "          '<a target=\"_blank\" href=https://colab.research.google.com/notebooks/data_table.ipynb>data table notebook</a>'\n",
              "          + ' to learn more about interactive tables.';\n",
              "        element.innerHTML = '';\n",
              "        dataTable['output_type'] = 'display_data';\n",
              "        await google.colab.output.renderOutput(dataTable, element);\n",
              "        const docLink = document.createElement('div');\n",
              "        docLink.innerHTML = docLinkHtml;\n",
              "        element.appendChild(docLink);\n",
              "      }\n",
              "    </script>\n",
              "  </div>\n",
              "\n",
              "\n",
              "<div id=\"df-b479220b-a09a-420e-a282-e046a06765f7\">\n",
              "  <button class=\"colab-df-quickchart\" onclick=\"quickchart('df-b479220b-a09a-420e-a282-e046a06765f7')\"\n",
              "            title=\"Suggest charts\"\n",
              "            style=\"display:none;\">\n",
              "\n",
              "<svg xmlns=\"http://www.w3.org/2000/svg\" height=\"24px\"viewBox=\"0 0 24 24\"\n",
              "     width=\"24px\">\n",
              "    <g>\n",
              "        <path d=\"M19 3H5c-1.1 0-2 .9-2 2v14c0 1.1.9 2 2 2h14c1.1 0 2-.9 2-2V5c0-1.1-.9-2-2-2zM9 17H7v-7h2v7zm4 0h-2V7h2v10zm4 0h-2v-4h2v4z\"/>\n",
              "    </g>\n",
              "</svg>\n",
              "  </button>\n",
              "\n",
              "<style>\n",
              "  .colab-df-quickchart {\n",
              "      --bg-color: #E8F0FE;\n",
              "      --fill-color: #1967D2;\n",
              "      --hover-bg-color: #E2EBFA;\n",
              "      --hover-fill-color: #174EA6;\n",
              "      --disabled-fill-color: #AAA;\n",
              "      --disabled-bg-color: #DDD;\n",
              "  }\n",
              "\n",
              "  [theme=dark] .colab-df-quickchart {\n",
              "      --bg-color: #3B4455;\n",
              "      --fill-color: #D2E3FC;\n",
              "      --hover-bg-color: #434B5C;\n",
              "      --hover-fill-color: #FFFFFF;\n",
              "      --disabled-bg-color: #3B4455;\n",
              "      --disabled-fill-color: #666;\n",
              "  }\n",
              "\n",
              "  .colab-df-quickchart {\n",
              "    background-color: var(--bg-color);\n",
              "    border: none;\n",
              "    border-radius: 50%;\n",
              "    cursor: pointer;\n",
              "    display: none;\n",
              "    fill: var(--fill-color);\n",
              "    height: 32px;\n",
              "    padding: 0;\n",
              "    width: 32px;\n",
              "  }\n",
              "\n",
              "  .colab-df-quickchart:hover {\n",
              "    background-color: var(--hover-bg-color);\n",
              "    box-shadow: 0 1px 2px rgba(60, 64, 67, 0.3), 0 1px 3px 1px rgba(60, 64, 67, 0.15);\n",
              "    fill: var(--button-hover-fill-color);\n",
              "  }\n",
              "\n",
              "  .colab-df-quickchart-complete:disabled,\n",
              "  .colab-df-quickchart-complete:disabled:hover {\n",
              "    background-color: var(--disabled-bg-color);\n",
              "    fill: var(--disabled-fill-color);\n",
              "    box-shadow: none;\n",
              "  }\n",
              "\n",
              "  .colab-df-spinner {\n",
              "    border: 2px solid var(--fill-color);\n",
              "    border-color: transparent;\n",
              "    border-bottom-color: var(--fill-color);\n",
              "    animation:\n",
              "      spin 1s steps(1) infinite;\n",
              "  }\n",
              "\n",
              "  @keyframes spin {\n",
              "    0% {\n",
              "      border-color: transparent;\n",
              "      border-bottom-color: var(--fill-color);\n",
              "      border-left-color: var(--fill-color);\n",
              "    }\n",
              "    20% {\n",
              "      border-color: transparent;\n",
              "      border-left-color: var(--fill-color);\n",
              "      border-top-color: var(--fill-color);\n",
              "    }\n",
              "    30% {\n",
              "      border-color: transparent;\n",
              "      border-left-color: var(--fill-color);\n",
              "      border-top-color: var(--fill-color);\n",
              "      border-right-color: var(--fill-color);\n",
              "    }\n",
              "    40% {\n",
              "      border-color: transparent;\n",
              "      border-right-color: var(--fill-color);\n",
              "      border-top-color: var(--fill-color);\n",
              "    }\n",
              "    60% {\n",
              "      border-color: transparent;\n",
              "      border-right-color: var(--fill-color);\n",
              "    }\n",
              "    80% {\n",
              "      border-color: transparent;\n",
              "      border-right-color: var(--fill-color);\n",
              "      border-bottom-color: var(--fill-color);\n",
              "    }\n",
              "    90% {\n",
              "      border-color: transparent;\n",
              "      border-bottom-color: var(--fill-color);\n",
              "    }\n",
              "  }\n",
              "</style>\n",
              "\n",
              "  <script>\n",
              "    async function quickchart(key) {\n",
              "      const quickchartButtonEl =\n",
              "        document.querySelector('#' + key + ' button');\n",
              "      quickchartButtonEl.disabled = true;  // To prevent multiple clicks.\n",
              "      quickchartButtonEl.classList.add('colab-df-spinner');\n",
              "      try {\n",
              "        const charts = await google.colab.kernel.invokeFunction(\n",
              "            'suggestCharts', [key], {});\n",
              "      } catch (error) {\n",
              "        console.error('Error during call to suggestCharts:', error);\n",
              "      }\n",
              "      quickchartButtonEl.classList.remove('colab-df-spinner');\n",
              "      quickchartButtonEl.classList.add('colab-df-quickchart-complete');\n",
              "    }\n",
              "    (() => {\n",
              "      let quickchartButtonEl =\n",
              "        document.querySelector('#df-b479220b-a09a-420e-a282-e046a06765f7 button');\n",
              "      quickchartButtonEl.style.display =\n",
              "        google.colab.kernel.accessAllowed ? 'block' : 'none';\n",
              "    })();\n",
              "  </script>\n",
              "</div>\n",
              "    </div>\n",
              "  </div>\n"
            ],
            "application/vnd.google.colaboratory.intrinsic+json": {
              "type": "dataframe",
              "variable_name": "df",
              "summary": "{\n  \"name\": \"df\",\n  \"rows\": 8557,\n  \"fields\": [\n    {\n      \"column\": \"InvoiceNo\",\n      \"properties\": {\n        \"dtype\": \"category\",\n        \"num_unique_values\": 461,\n        \"samples\": [\n          \"559685\",\n          \"C540367\",\n          \"540851\"\n        ],\n        \"semantic_type\": \"\",\n        \"description\": \"\"\n      }\n    },\n    {\n      \"column\": \"StockCode\",\n      \"properties\": {\n        \"dtype\": \"category\",\n        \"num_unique_values\": 1543,\n        \"samples\": [\n          \"23116\",\n          \"23164\",\n          \"21591\"\n        ],\n        \"semantic_type\": \"\",\n        \"description\": \"\"\n      }\n    },\n    {\n      \"column\": \"Description\",\n      \"properties\": {\n        \"dtype\": \"category\",\n        \"num_unique_values\": 1565,\n        \"samples\": [\n          \"12 COLOURED PARTY BALLOONS\",\n          \"RED DRAGONFLY HELICOPTER\",\n          \"HANGING HEART WITH BELL\"\n        ],\n        \"semantic_type\": \"\",\n        \"description\": \"\"\n      }\n    },\n    {\n      \"column\": \"Quantity\",\n      \"properties\": {\n        \"dtype\": \"number\",\n        \"std\": 21,\n        \"min\": -250,\n        \"max\": 912,\n        \"num_unique_values\": 77,\n        \"samples\": [\n          20,\n          160,\n          6\n        ],\n        \"semantic_type\": \"\",\n        \"description\": \"\"\n      }\n    },\n    {\n      \"column\": \"InvoiceDate\",\n      \"properties\": {\n        \"dtype\": \"object\",\n        \"num_unique_values\": 461,\n        \"samples\": [\n          \"7/11/2011 15:22\",\n          \"1/7/2011 12:07\",\n          \"1/12/2011 9:52\"\n        ],\n        \"semantic_type\": \"\",\n        \"description\": \"\"\n      }\n    },\n    {\n      \"column\": \"UnitPrice\",\n      \"properties\": {\n        \"dtype\": \"number\",\n        \"std\": 79.9091256516272,\n        \"min\": 0.0,\n        \"max\": 4161.06,\n        \"num_unique_values\": 97,\n        \"samples\": [\n          20.0,\n          29.95,\n          0.0\n        ],\n        \"semantic_type\": \"\",\n        \"description\": \"\"\n      }\n    },\n    {\n      \"column\": \"CustomerID\",\n      \"properties\": {\n        \"dtype\": \"number\",\n        \"std\": 276.7420879779668,\n        \"min\": 12413.0,\n        \"max\": 14277.0,\n        \"num_unique_values\": 87,\n        \"samples\": [\n          12723.0,\n          12583.0,\n          12490.0\n        ],\n        \"semantic_type\": \"\",\n        \"description\": \"\"\n      }\n    },\n    {\n      \"column\": \"Country\",\n      \"properties\": {\n        \"dtype\": \"category\",\n        \"num_unique_values\": 1,\n        \"samples\": [\n          \"France\"\n        ],\n        \"semantic_type\": \"\",\n        \"description\": \"\"\n      }\n    }\n  ]\n}"
            }
          },
          "metadata": {},
          "execution_count": 8
        }
      ]
    },
    {
      "cell_type": "markdown",
      "source": [],
      "metadata": {
        "id": "08E8yFAcFkgQ"
      }
    },
    {
      "cell_type": "code",
      "source": [
        "# Информация о наборе данных\n",
        "df.info()"
      ],
      "metadata": {
        "colab": {
          "base_uri": "https://localhost:8080/"
        },
        "id": "FXF-l0y1AXNU",
        "outputId": "0a405503-ef41-4830-bb5e-bd8f3d2bb404"
      },
      "execution_count": 5,
      "outputs": [
        {
          "output_type": "stream",
          "name": "stdout",
          "text": [
            "<class 'pandas.core.frame.DataFrame'>\n",
            "RangeIndex: 8557 entries, 0 to 8556\n",
            "Data columns (total 8 columns):\n",
            " #   Column       Non-Null Count  Dtype  \n",
            "---  ------       --------------  -----  \n",
            " 0   InvoiceNo    8557 non-null   object \n",
            " 1   StockCode    8557 non-null   object \n",
            " 2   Description  8557 non-null   object \n",
            " 3   Quantity     8557 non-null   int64  \n",
            " 4   InvoiceDate  8557 non-null   object \n",
            " 5   UnitPrice    8557 non-null   float64\n",
            " 6   CustomerID   8491 non-null   float64\n",
            " 7   Country      8557 non-null   object \n",
            "dtypes: float64(2), int64(1), object(5)\n",
            "memory usage: 534.9+ KB\n"
          ]
        }
      ]
    },
    {
      "cell_type": "code",
      "source": [
        "# Статистический разбор\n",
        "df.describe()"
      ],
      "metadata": {
        "colab": {
          "base_uri": "https://localhost:8080/",
          "height": 297
        },
        "id": "1eP4wqv1_tqN",
        "outputId": "1729cdfd-5322-4cc7-b1f5-6d8f4a15925d"
      },
      "execution_count": 6,
      "outputs": [
        {
          "output_type": "execute_result",
          "data": {
            "text/plain": [
              "          Quantity    UnitPrice    CustomerID\n",
              "count  8557.000000  8557.000000   8491.000000\n",
              "mean     12.911067     5.028864  12677.995996\n",
              "std      21.425031    79.909126    276.742088\n",
              "min    -250.000000     0.000000  12413.000000\n",
              "25%       5.000000     1.250000  12571.000000\n",
              "50%      10.000000     1.790000  12674.000000\n",
              "75%      12.000000     3.750000  12689.000000\n",
              "max     912.000000  4161.060000  14277.000000"
            ],
            "text/html": [
              "\n",
              "  <div id=\"df-b592d9d0-625d-4b62-b3ce-2d60d95ec453\" class=\"colab-df-container\">\n",
              "    <div>\n",
              "<style scoped>\n",
              "    .dataframe tbody tr th:only-of-type {\n",
              "        vertical-align: middle;\n",
              "    }\n",
              "\n",
              "    .dataframe tbody tr th {\n",
              "        vertical-align: top;\n",
              "    }\n",
              "\n",
              "    .dataframe thead th {\n",
              "        text-align: right;\n",
              "    }\n",
              "</style>\n",
              "<table border=\"1\" class=\"dataframe\">\n",
              "  <thead>\n",
              "    <tr style=\"text-align: right;\">\n",
              "      <th></th>\n",
              "      <th>Quantity</th>\n",
              "      <th>UnitPrice</th>\n",
              "      <th>CustomerID</th>\n",
              "    </tr>\n",
              "  </thead>\n",
              "  <tbody>\n",
              "    <tr>\n",
              "      <th>count</th>\n",
              "      <td>8557.000000</td>\n",
              "      <td>8557.000000</td>\n",
              "      <td>8491.000000</td>\n",
              "    </tr>\n",
              "    <tr>\n",
              "      <th>mean</th>\n",
              "      <td>12.911067</td>\n",
              "      <td>5.028864</td>\n",
              "      <td>12677.995996</td>\n",
              "    </tr>\n",
              "    <tr>\n",
              "      <th>std</th>\n",
              "      <td>21.425031</td>\n",
              "      <td>79.909126</td>\n",
              "      <td>276.742088</td>\n",
              "    </tr>\n",
              "    <tr>\n",
              "      <th>min</th>\n",
              "      <td>-250.000000</td>\n",
              "      <td>0.000000</td>\n",
              "      <td>12413.000000</td>\n",
              "    </tr>\n",
              "    <tr>\n",
              "      <th>25%</th>\n",
              "      <td>5.000000</td>\n",
              "      <td>1.250000</td>\n",
              "      <td>12571.000000</td>\n",
              "    </tr>\n",
              "    <tr>\n",
              "      <th>50%</th>\n",
              "      <td>10.000000</td>\n",
              "      <td>1.790000</td>\n",
              "      <td>12674.000000</td>\n",
              "    </tr>\n",
              "    <tr>\n",
              "      <th>75%</th>\n",
              "      <td>12.000000</td>\n",
              "      <td>3.750000</td>\n",
              "      <td>12689.000000</td>\n",
              "    </tr>\n",
              "    <tr>\n",
              "      <th>max</th>\n",
              "      <td>912.000000</td>\n",
              "      <td>4161.060000</td>\n",
              "      <td>14277.000000</td>\n",
              "    </tr>\n",
              "  </tbody>\n",
              "</table>\n",
              "</div>\n",
              "    <div class=\"colab-df-buttons\">\n",
              "\n",
              "  <div class=\"colab-df-container\">\n",
              "    <button class=\"colab-df-convert\" onclick=\"convertToInteractive('df-b592d9d0-625d-4b62-b3ce-2d60d95ec453')\"\n",
              "            title=\"Convert this dataframe to an interactive table.\"\n",
              "            style=\"display:none;\">\n",
              "\n",
              "  <svg xmlns=\"http://www.w3.org/2000/svg\" height=\"24px\" viewBox=\"0 -960 960 960\">\n",
              "    <path d=\"M120-120v-720h720v720H120Zm60-500h600v-160H180v160Zm220 220h160v-160H400v160Zm0 220h160v-160H400v160ZM180-400h160v-160H180v160Zm440 0h160v-160H620v160ZM180-180h160v-160H180v160Zm440 0h160v-160H620v160Z\"/>\n",
              "  </svg>\n",
              "    </button>\n",
              "\n",
              "  <style>\n",
              "    .colab-df-container {\n",
              "      display:flex;\n",
              "      gap: 12px;\n",
              "    }\n",
              "\n",
              "    .colab-df-convert {\n",
              "      background-color: #E8F0FE;\n",
              "      border: none;\n",
              "      border-radius: 50%;\n",
              "      cursor: pointer;\n",
              "      display: none;\n",
              "      fill: #1967D2;\n",
              "      height: 32px;\n",
              "      padding: 0 0 0 0;\n",
              "      width: 32px;\n",
              "    }\n",
              "\n",
              "    .colab-df-convert:hover {\n",
              "      background-color: #E2EBFA;\n",
              "      box-shadow: 0px 1px 2px rgba(60, 64, 67, 0.3), 0px 1px 3px 1px rgba(60, 64, 67, 0.15);\n",
              "      fill: #174EA6;\n",
              "    }\n",
              "\n",
              "    .colab-df-buttons div {\n",
              "      margin-bottom: 4px;\n",
              "    }\n",
              "\n",
              "    [theme=dark] .colab-df-convert {\n",
              "      background-color: #3B4455;\n",
              "      fill: #D2E3FC;\n",
              "    }\n",
              "\n",
              "    [theme=dark] .colab-df-convert:hover {\n",
              "      background-color: #434B5C;\n",
              "      box-shadow: 0px 1px 3px 1px rgba(0, 0, 0, 0.15);\n",
              "      filter: drop-shadow(0px 1px 2px rgba(0, 0, 0, 0.3));\n",
              "      fill: #FFFFFF;\n",
              "    }\n",
              "  </style>\n",
              "\n",
              "    <script>\n",
              "      const buttonEl =\n",
              "        document.querySelector('#df-b592d9d0-625d-4b62-b3ce-2d60d95ec453 button.colab-df-convert');\n",
              "      buttonEl.style.display =\n",
              "        google.colab.kernel.accessAllowed ? 'block' : 'none';\n",
              "\n",
              "      async function convertToInteractive(key) {\n",
              "        const element = document.querySelector('#df-b592d9d0-625d-4b62-b3ce-2d60d95ec453');\n",
              "        const dataTable =\n",
              "          await google.colab.kernel.invokeFunction('convertToInteractive',\n",
              "                                                    [key], {});\n",
              "        if (!dataTable) return;\n",
              "\n",
              "        const docLinkHtml = 'Like what you see? Visit the ' +\n",
              "          '<a target=\"_blank\" href=https://colab.research.google.com/notebooks/data_table.ipynb>data table notebook</a>'\n",
              "          + ' to learn more about interactive tables.';\n",
              "        element.innerHTML = '';\n",
              "        dataTable['output_type'] = 'display_data';\n",
              "        await google.colab.output.renderOutput(dataTable, element);\n",
              "        const docLink = document.createElement('div');\n",
              "        docLink.innerHTML = docLinkHtml;\n",
              "        element.appendChild(docLink);\n",
              "      }\n",
              "    </script>\n",
              "  </div>\n",
              "\n",
              "\n",
              "<div id=\"df-b2e7b5f5-422e-4542-b0de-ef9eeaf9def4\">\n",
              "  <button class=\"colab-df-quickchart\" onclick=\"quickchart('df-b2e7b5f5-422e-4542-b0de-ef9eeaf9def4')\"\n",
              "            title=\"Suggest charts\"\n",
              "            style=\"display:none;\">\n",
              "\n",
              "<svg xmlns=\"http://www.w3.org/2000/svg\" height=\"24px\"viewBox=\"0 0 24 24\"\n",
              "     width=\"24px\">\n",
              "    <g>\n",
              "        <path d=\"M19 3H5c-1.1 0-2 .9-2 2v14c0 1.1.9 2 2 2h14c1.1 0 2-.9 2-2V5c0-1.1-.9-2-2-2zM9 17H7v-7h2v7zm4 0h-2V7h2v10zm4 0h-2v-4h2v4z\"/>\n",
              "    </g>\n",
              "</svg>\n",
              "  </button>\n",
              "\n",
              "<style>\n",
              "  .colab-df-quickchart {\n",
              "      --bg-color: #E8F0FE;\n",
              "      --fill-color: #1967D2;\n",
              "      --hover-bg-color: #E2EBFA;\n",
              "      --hover-fill-color: #174EA6;\n",
              "      --disabled-fill-color: #AAA;\n",
              "      --disabled-bg-color: #DDD;\n",
              "  }\n",
              "\n",
              "  [theme=dark] .colab-df-quickchart {\n",
              "      --bg-color: #3B4455;\n",
              "      --fill-color: #D2E3FC;\n",
              "      --hover-bg-color: #434B5C;\n",
              "      --hover-fill-color: #FFFFFF;\n",
              "      --disabled-bg-color: #3B4455;\n",
              "      --disabled-fill-color: #666;\n",
              "  }\n",
              "\n",
              "  .colab-df-quickchart {\n",
              "    background-color: var(--bg-color);\n",
              "    border: none;\n",
              "    border-radius: 50%;\n",
              "    cursor: pointer;\n",
              "    display: none;\n",
              "    fill: var(--fill-color);\n",
              "    height: 32px;\n",
              "    padding: 0;\n",
              "    width: 32px;\n",
              "  }\n",
              "\n",
              "  .colab-df-quickchart:hover {\n",
              "    background-color: var(--hover-bg-color);\n",
              "    box-shadow: 0 1px 2px rgba(60, 64, 67, 0.3), 0 1px 3px 1px rgba(60, 64, 67, 0.15);\n",
              "    fill: var(--button-hover-fill-color);\n",
              "  }\n",
              "\n",
              "  .colab-df-quickchart-complete:disabled,\n",
              "  .colab-df-quickchart-complete:disabled:hover {\n",
              "    background-color: var(--disabled-bg-color);\n",
              "    fill: var(--disabled-fill-color);\n",
              "    box-shadow: none;\n",
              "  }\n",
              "\n",
              "  .colab-df-spinner {\n",
              "    border: 2px solid var(--fill-color);\n",
              "    border-color: transparent;\n",
              "    border-bottom-color: var(--fill-color);\n",
              "    animation:\n",
              "      spin 1s steps(1) infinite;\n",
              "  }\n",
              "\n",
              "  @keyframes spin {\n",
              "    0% {\n",
              "      border-color: transparent;\n",
              "      border-bottom-color: var(--fill-color);\n",
              "      border-left-color: var(--fill-color);\n",
              "    }\n",
              "    20% {\n",
              "      border-color: transparent;\n",
              "      border-left-color: var(--fill-color);\n",
              "      border-top-color: var(--fill-color);\n",
              "    }\n",
              "    30% {\n",
              "      border-color: transparent;\n",
              "      border-left-color: var(--fill-color);\n",
              "      border-top-color: var(--fill-color);\n",
              "      border-right-color: var(--fill-color);\n",
              "    }\n",
              "    40% {\n",
              "      border-color: transparent;\n",
              "      border-right-color: var(--fill-color);\n",
              "      border-top-color: var(--fill-color);\n",
              "    }\n",
              "    60% {\n",
              "      border-color: transparent;\n",
              "      border-right-color: var(--fill-color);\n",
              "    }\n",
              "    80% {\n",
              "      border-color: transparent;\n",
              "      border-right-color: var(--fill-color);\n",
              "      border-bottom-color: var(--fill-color);\n",
              "    }\n",
              "    90% {\n",
              "      border-color: transparent;\n",
              "      border-bottom-color: var(--fill-color);\n",
              "    }\n",
              "  }\n",
              "</style>\n",
              "\n",
              "  <script>\n",
              "    async function quickchart(key) {\n",
              "      const quickchartButtonEl =\n",
              "        document.querySelector('#' + key + ' button');\n",
              "      quickchartButtonEl.disabled = true;  // To prevent multiple clicks.\n",
              "      quickchartButtonEl.classList.add('colab-df-spinner');\n",
              "      try {\n",
              "        const charts = await google.colab.kernel.invokeFunction(\n",
              "            'suggestCharts', [key], {});\n",
              "      } catch (error) {\n",
              "        console.error('Error during call to suggestCharts:', error);\n",
              "      }\n",
              "      quickchartButtonEl.classList.remove('colab-df-spinner');\n",
              "      quickchartButtonEl.classList.add('colab-df-quickchart-complete');\n",
              "    }\n",
              "    (() => {\n",
              "      let quickchartButtonEl =\n",
              "        document.querySelector('#df-b2e7b5f5-422e-4542-b0de-ef9eeaf9def4 button');\n",
              "      quickchartButtonEl.style.display =\n",
              "        google.colab.kernel.accessAllowed ? 'block' : 'none';\n",
              "    })();\n",
              "  </script>\n",
              "</div>\n",
              "    </div>\n",
              "  </div>\n"
            ],
            "application/vnd.google.colaboratory.intrinsic+json": {
              "type": "dataframe",
              "summary": "{\n  \"name\": \"df\",\n  \"rows\": 8,\n  \"fields\": [\n    {\n      \"column\": \"Quantity\",\n      \"properties\": {\n        \"dtype\": \"number\",\n        \"std\": 3008.364718738409,\n        \"min\": -250.0,\n        \"max\": 8557.0,\n        \"num_unique_values\": 8,\n        \"samples\": [\n          12.91106696272058,\n          10.0,\n          8557.0\n        ],\n        \"semantic_type\": \"\",\n        \"description\": \"\"\n      }\n    },\n    {\n      \"column\": \"UnitPrice\",\n      \"properties\": {\n        \"dtype\": \"number\",\n        \"std\": 3162.9950853079813,\n        \"min\": 0.0,\n        \"max\": 8557.0,\n        \"num_unique_values\": 8,\n        \"samples\": [\n          5.028864087881266,\n          1.79,\n          8557.0\n        ],\n        \"semantic_type\": \"\",\n        \"description\": \"\"\n      }\n    },\n    {\n      \"column\": \"CustomerID\",\n      \"properties\": {\n        \"dtype\": \"number\",\n        \"std\": 4543.309192433561,\n        \"min\": 276.7420879779668,\n        \"max\": 14277.0,\n        \"num_unique_values\": 8,\n        \"samples\": [\n          12677.995995760217,\n          12674.0,\n          8491.0\n        ],\n        \"semantic_type\": \"\",\n        \"description\": \"\"\n      }\n    }\n  ]\n}"
            }
          },
          "metadata": {},
          "execution_count": 6
        }
      ]
    },
    {
      "cell_type": "code",
      "source": [
        "# Вывод колонок в наборе данных\n",
        "df.columns"
      ],
      "metadata": {
        "colab": {
          "base_uri": "https://localhost:8080/"
        },
        "id": "157IXtxKAjbv",
        "outputId": "2e5e52e0-63ad-4a83-dfa7-9447db966a4f"
      },
      "execution_count": 7,
      "outputs": [
        {
          "output_type": "execute_result",
          "data": {
            "text/plain": [
              "Index(['InvoiceNo', 'StockCode', 'Description', 'Quantity', 'InvoiceDate',\n",
              "       'UnitPrice', 'CustomerID', 'Country'],\n",
              "      dtype='object')"
            ]
          },
          "metadata": {},
          "execution_count": 7
        }
      ]
    },
    {
      "cell_type": "code",
      "source": [
        "# вывод датафрейма\n",
        "df # p.s. обычно переменную с набором данных называют df, придерживайтесь этого наименования в дальнейшем"
      ],
      "metadata": {
        "colab": {
          "base_uri": "https://localhost:8080/",
          "height": 419
        },
        "id": "rnL3akt2Ao81",
        "outputId": "99a4ac7c-6f8e-43ab-b7cc-e99f2be4a97d"
      },
      "execution_count": 8,
      "outputs": [
        {
          "output_type": "execute_result",
          "data": {
            "text/plain": [
              "     InvoiceNo StockCode                      Description  Quantity  \\\n",
              "0       536370     22728        ALARM CLOCK BAKELIKE PINK        24   \n",
              "1       536370     22727        ALARM CLOCK BAKELIKE RED         24   \n",
              "2       536370     22726       ALARM CLOCK BAKELIKE GREEN        12   \n",
              "3       536370     21724  PANDA AND BUNNIES STICKER SHEET        12   \n",
              "4       536370     21883                 STARS GIFT TAPE         24   \n",
              "...        ...       ...                              ...       ...   \n",
              "8552    581587     22613      PACK OF 20 SPACEBOY NAPKINS        12   \n",
              "8553    581587     22899     CHILDREN'S APRON DOLLY GIRL          6   \n",
              "8554    581587     23254    CHILDRENS CUTLERY DOLLY GIRL          4   \n",
              "8555    581587     23255  CHILDRENS CUTLERY CIRCUS PARADE         4   \n",
              "8556    581587     22138    BAKING SET 9 PIECE RETROSPOT          3   \n",
              "\n",
              "          InvoiceDate  UnitPrice  CustomerID Country  \n",
              "0      12/1/2010 8:45       3.75     12583.0  France  \n",
              "1      12/1/2010 8:45       3.75     12583.0  France  \n",
              "2      12/1/2010 8:45       3.75     12583.0  France  \n",
              "3      12/1/2010 8:45       0.85     12583.0  France  \n",
              "4      12/1/2010 8:45       0.65     12583.0  France  \n",
              "...               ...        ...         ...     ...  \n",
              "8552  12/9/2011 12:50       0.85     12680.0  France  \n",
              "8553  12/9/2011 12:50       2.10     12680.0  France  \n",
              "8554  12/9/2011 12:50       4.15     12680.0  France  \n",
              "8555  12/9/2011 12:50       4.15     12680.0  France  \n",
              "8556  12/9/2011 12:50       4.95     12680.0  France  \n",
              "\n",
              "[8557 rows x 8 columns]"
            ],
            "text/html": [
              "\n",
              "  <div id=\"df-8cc482e4-93e3-4e3f-bf41-8a6abb4290c7\" class=\"colab-df-container\">\n",
              "    <div>\n",
              "<style scoped>\n",
              "    .dataframe tbody tr th:only-of-type {\n",
              "        vertical-align: middle;\n",
              "    }\n",
              "\n",
              "    .dataframe tbody tr th {\n",
              "        vertical-align: top;\n",
              "    }\n",
              "\n",
              "    .dataframe thead th {\n",
              "        text-align: right;\n",
              "    }\n",
              "</style>\n",
              "<table border=\"1\" class=\"dataframe\">\n",
              "  <thead>\n",
              "    <tr style=\"text-align: right;\">\n",
              "      <th></th>\n",
              "      <th>InvoiceNo</th>\n",
              "      <th>StockCode</th>\n",
              "      <th>Description</th>\n",
              "      <th>Quantity</th>\n",
              "      <th>InvoiceDate</th>\n",
              "      <th>UnitPrice</th>\n",
              "      <th>CustomerID</th>\n",
              "      <th>Country</th>\n",
              "    </tr>\n",
              "  </thead>\n",
              "  <tbody>\n",
              "    <tr>\n",
              "      <th>0</th>\n",
              "      <td>536370</td>\n",
              "      <td>22728</td>\n",
              "      <td>ALARM CLOCK BAKELIKE PINK</td>\n",
              "      <td>24</td>\n",
              "      <td>12/1/2010 8:45</td>\n",
              "      <td>3.75</td>\n",
              "      <td>12583.0</td>\n",
              "      <td>France</td>\n",
              "    </tr>\n",
              "    <tr>\n",
              "      <th>1</th>\n",
              "      <td>536370</td>\n",
              "      <td>22727</td>\n",
              "      <td>ALARM CLOCK BAKELIKE RED</td>\n",
              "      <td>24</td>\n",
              "      <td>12/1/2010 8:45</td>\n",
              "      <td>3.75</td>\n",
              "      <td>12583.0</td>\n",
              "      <td>France</td>\n",
              "    </tr>\n",
              "    <tr>\n",
              "      <th>2</th>\n",
              "      <td>536370</td>\n",
              "      <td>22726</td>\n",
              "      <td>ALARM CLOCK BAKELIKE GREEN</td>\n",
              "      <td>12</td>\n",
              "      <td>12/1/2010 8:45</td>\n",
              "      <td>3.75</td>\n",
              "      <td>12583.0</td>\n",
              "      <td>France</td>\n",
              "    </tr>\n",
              "    <tr>\n",
              "      <th>3</th>\n",
              "      <td>536370</td>\n",
              "      <td>21724</td>\n",
              "      <td>PANDA AND BUNNIES STICKER SHEET</td>\n",
              "      <td>12</td>\n",
              "      <td>12/1/2010 8:45</td>\n",
              "      <td>0.85</td>\n",
              "      <td>12583.0</td>\n",
              "      <td>France</td>\n",
              "    </tr>\n",
              "    <tr>\n",
              "      <th>4</th>\n",
              "      <td>536370</td>\n",
              "      <td>21883</td>\n",
              "      <td>STARS GIFT TAPE</td>\n",
              "      <td>24</td>\n",
              "      <td>12/1/2010 8:45</td>\n",
              "      <td>0.65</td>\n",
              "      <td>12583.0</td>\n",
              "      <td>France</td>\n",
              "    </tr>\n",
              "    <tr>\n",
              "      <th>...</th>\n",
              "      <td>...</td>\n",
              "      <td>...</td>\n",
              "      <td>...</td>\n",
              "      <td>...</td>\n",
              "      <td>...</td>\n",
              "      <td>...</td>\n",
              "      <td>...</td>\n",
              "      <td>...</td>\n",
              "    </tr>\n",
              "    <tr>\n",
              "      <th>8552</th>\n",
              "      <td>581587</td>\n",
              "      <td>22613</td>\n",
              "      <td>PACK OF 20 SPACEBOY NAPKINS</td>\n",
              "      <td>12</td>\n",
              "      <td>12/9/2011 12:50</td>\n",
              "      <td>0.85</td>\n",
              "      <td>12680.0</td>\n",
              "      <td>France</td>\n",
              "    </tr>\n",
              "    <tr>\n",
              "      <th>8553</th>\n",
              "      <td>581587</td>\n",
              "      <td>22899</td>\n",
              "      <td>CHILDREN'S APRON DOLLY GIRL</td>\n",
              "      <td>6</td>\n",
              "      <td>12/9/2011 12:50</td>\n",
              "      <td>2.10</td>\n",
              "      <td>12680.0</td>\n",
              "      <td>France</td>\n",
              "    </tr>\n",
              "    <tr>\n",
              "      <th>8554</th>\n",
              "      <td>581587</td>\n",
              "      <td>23254</td>\n",
              "      <td>CHILDRENS CUTLERY DOLLY GIRL</td>\n",
              "      <td>4</td>\n",
              "      <td>12/9/2011 12:50</td>\n",
              "      <td>4.15</td>\n",
              "      <td>12680.0</td>\n",
              "      <td>France</td>\n",
              "    </tr>\n",
              "    <tr>\n",
              "      <th>8555</th>\n",
              "      <td>581587</td>\n",
              "      <td>23255</td>\n",
              "      <td>CHILDRENS CUTLERY CIRCUS PARADE</td>\n",
              "      <td>4</td>\n",
              "      <td>12/9/2011 12:50</td>\n",
              "      <td>4.15</td>\n",
              "      <td>12680.0</td>\n",
              "      <td>France</td>\n",
              "    </tr>\n",
              "    <tr>\n",
              "      <th>8556</th>\n",
              "      <td>581587</td>\n",
              "      <td>22138</td>\n",
              "      <td>BAKING SET 9 PIECE RETROSPOT</td>\n",
              "      <td>3</td>\n",
              "      <td>12/9/2011 12:50</td>\n",
              "      <td>4.95</td>\n",
              "      <td>12680.0</td>\n",
              "      <td>France</td>\n",
              "    </tr>\n",
              "  </tbody>\n",
              "</table>\n",
              "<p>8557 rows × 8 columns</p>\n",
              "</div>\n",
              "    <div class=\"colab-df-buttons\">\n",
              "\n",
              "  <div class=\"colab-df-container\">\n",
              "    <button class=\"colab-df-convert\" onclick=\"convertToInteractive('df-8cc482e4-93e3-4e3f-bf41-8a6abb4290c7')\"\n",
              "            title=\"Convert this dataframe to an interactive table.\"\n",
              "            style=\"display:none;\">\n",
              "\n",
              "  <svg xmlns=\"http://www.w3.org/2000/svg\" height=\"24px\" viewBox=\"0 -960 960 960\">\n",
              "    <path d=\"M120-120v-720h720v720H120Zm60-500h600v-160H180v160Zm220 220h160v-160H400v160Zm0 220h160v-160H400v160ZM180-400h160v-160H180v160Zm440 0h160v-160H620v160ZM180-180h160v-160H180v160Zm440 0h160v-160H620v160Z\"/>\n",
              "  </svg>\n",
              "    </button>\n",
              "\n",
              "  <style>\n",
              "    .colab-df-container {\n",
              "      display:flex;\n",
              "      gap: 12px;\n",
              "    }\n",
              "\n",
              "    .colab-df-convert {\n",
              "      background-color: #E8F0FE;\n",
              "      border: none;\n",
              "      border-radius: 50%;\n",
              "      cursor: pointer;\n",
              "      display: none;\n",
              "      fill: #1967D2;\n",
              "      height: 32px;\n",
              "      padding: 0 0 0 0;\n",
              "      width: 32px;\n",
              "    }\n",
              "\n",
              "    .colab-df-convert:hover {\n",
              "      background-color: #E2EBFA;\n",
              "      box-shadow: 0px 1px 2px rgba(60, 64, 67, 0.3), 0px 1px 3px 1px rgba(60, 64, 67, 0.15);\n",
              "      fill: #174EA6;\n",
              "    }\n",
              "\n",
              "    .colab-df-buttons div {\n",
              "      margin-bottom: 4px;\n",
              "    }\n",
              "\n",
              "    [theme=dark] .colab-df-convert {\n",
              "      background-color: #3B4455;\n",
              "      fill: #D2E3FC;\n",
              "    }\n",
              "\n",
              "    [theme=dark] .colab-df-convert:hover {\n",
              "      background-color: #434B5C;\n",
              "      box-shadow: 0px 1px 3px 1px rgba(0, 0, 0, 0.15);\n",
              "      filter: drop-shadow(0px 1px 2px rgba(0, 0, 0, 0.3));\n",
              "      fill: #FFFFFF;\n",
              "    }\n",
              "  </style>\n",
              "\n",
              "    <script>\n",
              "      const buttonEl =\n",
              "        document.querySelector('#df-8cc482e4-93e3-4e3f-bf41-8a6abb4290c7 button.colab-df-convert');\n",
              "      buttonEl.style.display =\n",
              "        google.colab.kernel.accessAllowed ? 'block' : 'none';\n",
              "\n",
              "      async function convertToInteractive(key) {\n",
              "        const element = document.querySelector('#df-8cc482e4-93e3-4e3f-bf41-8a6abb4290c7');\n",
              "        const dataTable =\n",
              "          await google.colab.kernel.invokeFunction('convertToInteractive',\n",
              "                                                    [key], {});\n",
              "        if (!dataTable) return;\n",
              "\n",
              "        const docLinkHtml = 'Like what you see? Visit the ' +\n",
              "          '<a target=\"_blank\" href=https://colab.research.google.com/notebooks/data_table.ipynb>data table notebook</a>'\n",
              "          + ' to learn more about interactive tables.';\n",
              "        element.innerHTML = '';\n",
              "        dataTable['output_type'] = 'display_data';\n",
              "        await google.colab.output.renderOutput(dataTable, element);\n",
              "        const docLink = document.createElement('div');\n",
              "        docLink.innerHTML = docLinkHtml;\n",
              "        element.appendChild(docLink);\n",
              "      }\n",
              "    </script>\n",
              "  </div>\n",
              "\n",
              "\n",
              "<div id=\"df-5d3da5fb-cbc4-4108-abae-6314542653d7\">\n",
              "  <button class=\"colab-df-quickchart\" onclick=\"quickchart('df-5d3da5fb-cbc4-4108-abae-6314542653d7')\"\n",
              "            title=\"Suggest charts\"\n",
              "            style=\"display:none;\">\n",
              "\n",
              "<svg xmlns=\"http://www.w3.org/2000/svg\" height=\"24px\"viewBox=\"0 0 24 24\"\n",
              "     width=\"24px\">\n",
              "    <g>\n",
              "        <path d=\"M19 3H5c-1.1 0-2 .9-2 2v14c0 1.1.9 2 2 2h14c1.1 0 2-.9 2-2V5c0-1.1-.9-2-2-2zM9 17H7v-7h2v7zm4 0h-2V7h2v10zm4 0h-2v-4h2v4z\"/>\n",
              "    </g>\n",
              "</svg>\n",
              "  </button>\n",
              "\n",
              "<style>\n",
              "  .colab-df-quickchart {\n",
              "      --bg-color: #E8F0FE;\n",
              "      --fill-color: #1967D2;\n",
              "      --hover-bg-color: #E2EBFA;\n",
              "      --hover-fill-color: #174EA6;\n",
              "      --disabled-fill-color: #AAA;\n",
              "      --disabled-bg-color: #DDD;\n",
              "  }\n",
              "\n",
              "  [theme=dark] .colab-df-quickchart {\n",
              "      --bg-color: #3B4455;\n",
              "      --fill-color: #D2E3FC;\n",
              "      --hover-bg-color: #434B5C;\n",
              "      --hover-fill-color: #FFFFFF;\n",
              "      --disabled-bg-color: #3B4455;\n",
              "      --disabled-fill-color: #666;\n",
              "  }\n",
              "\n",
              "  .colab-df-quickchart {\n",
              "    background-color: var(--bg-color);\n",
              "    border: none;\n",
              "    border-radius: 50%;\n",
              "    cursor: pointer;\n",
              "    display: none;\n",
              "    fill: var(--fill-color);\n",
              "    height: 32px;\n",
              "    padding: 0;\n",
              "    width: 32px;\n",
              "  }\n",
              "\n",
              "  .colab-df-quickchart:hover {\n",
              "    background-color: var(--hover-bg-color);\n",
              "    box-shadow: 0 1px 2px rgba(60, 64, 67, 0.3), 0 1px 3px 1px rgba(60, 64, 67, 0.15);\n",
              "    fill: var(--button-hover-fill-color);\n",
              "  }\n",
              "\n",
              "  .colab-df-quickchart-complete:disabled,\n",
              "  .colab-df-quickchart-complete:disabled:hover {\n",
              "    background-color: var(--disabled-bg-color);\n",
              "    fill: var(--disabled-fill-color);\n",
              "    box-shadow: none;\n",
              "  }\n",
              "\n",
              "  .colab-df-spinner {\n",
              "    border: 2px solid var(--fill-color);\n",
              "    border-color: transparent;\n",
              "    border-bottom-color: var(--fill-color);\n",
              "    animation:\n",
              "      spin 1s steps(1) infinite;\n",
              "  }\n",
              "\n",
              "  @keyframes spin {\n",
              "    0% {\n",
              "      border-color: transparent;\n",
              "      border-bottom-color: var(--fill-color);\n",
              "      border-left-color: var(--fill-color);\n",
              "    }\n",
              "    20% {\n",
              "      border-color: transparent;\n",
              "      border-left-color: var(--fill-color);\n",
              "      border-top-color: var(--fill-color);\n",
              "    }\n",
              "    30% {\n",
              "      border-color: transparent;\n",
              "      border-left-color: var(--fill-color);\n",
              "      border-top-color: var(--fill-color);\n",
              "      border-right-color: var(--fill-color);\n",
              "    }\n",
              "    40% {\n",
              "      border-color: transparent;\n",
              "      border-right-color: var(--fill-color);\n",
              "      border-top-color: var(--fill-color);\n",
              "    }\n",
              "    60% {\n",
              "      border-color: transparent;\n",
              "      border-right-color: var(--fill-color);\n",
              "    }\n",
              "    80% {\n",
              "      border-color: transparent;\n",
              "      border-right-color: var(--fill-color);\n",
              "      border-bottom-color: var(--fill-color);\n",
              "    }\n",
              "    90% {\n",
              "      border-color: transparent;\n",
              "      border-bottom-color: var(--fill-color);\n",
              "    }\n",
              "  }\n",
              "</style>\n",
              "\n",
              "  <script>\n",
              "    async function quickchart(key) {\n",
              "      const quickchartButtonEl =\n",
              "        document.querySelector('#' + key + ' button');\n",
              "      quickchartButtonEl.disabled = true;  // To prevent multiple clicks.\n",
              "      quickchartButtonEl.classList.add('colab-df-spinner');\n",
              "      try {\n",
              "        const charts = await google.colab.kernel.invokeFunction(\n",
              "            'suggestCharts', [key], {});\n",
              "      } catch (error) {\n",
              "        console.error('Error during call to suggestCharts:', error);\n",
              "      }\n",
              "      quickchartButtonEl.classList.remove('colab-df-spinner');\n",
              "      quickchartButtonEl.classList.add('colab-df-quickchart-complete');\n",
              "    }\n",
              "    (() => {\n",
              "      let quickchartButtonEl =\n",
              "        document.querySelector('#df-5d3da5fb-cbc4-4108-abae-6314542653d7 button');\n",
              "      quickchartButtonEl.style.display =\n",
              "        google.colab.kernel.accessAllowed ? 'block' : 'none';\n",
              "    })();\n",
              "  </script>\n",
              "</div>\n",
              "    </div>\n",
              "  </div>\n"
            ],
            "application/vnd.google.colaboratory.intrinsic+json": {
              "type": "dataframe",
              "variable_name": "df",
              "summary": "{\n  \"name\": \"df\",\n  \"rows\": 8557,\n  \"fields\": [\n    {\n      \"column\": \"InvoiceNo\",\n      \"properties\": {\n        \"dtype\": \"category\",\n        \"num_unique_values\": 461,\n        \"samples\": [\n          \"559685\",\n          \"C540367\",\n          \"540851\"\n        ],\n        \"semantic_type\": \"\",\n        \"description\": \"\"\n      }\n    },\n    {\n      \"column\": \"StockCode\",\n      \"properties\": {\n        \"dtype\": \"category\",\n        \"num_unique_values\": 1543,\n        \"samples\": [\n          \"23116\",\n          \"23164\",\n          \"21591\"\n        ],\n        \"semantic_type\": \"\",\n        \"description\": \"\"\n      }\n    },\n    {\n      \"column\": \"Description\",\n      \"properties\": {\n        \"dtype\": \"category\",\n        \"num_unique_values\": 1565,\n        \"samples\": [\n          \"12 COLOURED PARTY BALLOONS\",\n          \"RED DRAGONFLY HELICOPTER\",\n          \"HANGING HEART WITH BELL\"\n        ],\n        \"semantic_type\": \"\",\n        \"description\": \"\"\n      }\n    },\n    {\n      \"column\": \"Quantity\",\n      \"properties\": {\n        \"dtype\": \"number\",\n        \"std\": 21,\n        \"min\": -250,\n        \"max\": 912,\n        \"num_unique_values\": 77,\n        \"samples\": [\n          20,\n          160,\n          6\n        ],\n        \"semantic_type\": \"\",\n        \"description\": \"\"\n      }\n    },\n    {\n      \"column\": \"InvoiceDate\",\n      \"properties\": {\n        \"dtype\": \"object\",\n        \"num_unique_values\": 461,\n        \"samples\": [\n          \"7/11/2011 15:22\",\n          \"1/7/2011 12:07\",\n          \"1/12/2011 9:52\"\n        ],\n        \"semantic_type\": \"\",\n        \"description\": \"\"\n      }\n    },\n    {\n      \"column\": \"UnitPrice\",\n      \"properties\": {\n        \"dtype\": \"number\",\n        \"std\": 79.9091256516272,\n        \"min\": 0.0,\n        \"max\": 4161.06,\n        \"num_unique_values\": 97,\n        \"samples\": [\n          20.0,\n          29.95,\n          0.0\n        ],\n        \"semantic_type\": \"\",\n        \"description\": \"\"\n      }\n    },\n    {\n      \"column\": \"CustomerID\",\n      \"properties\": {\n        \"dtype\": \"number\",\n        \"std\": 276.7420879779668,\n        \"min\": 12413.0,\n        \"max\": 14277.0,\n        \"num_unique_values\": 87,\n        \"samples\": [\n          12723.0,\n          12583.0,\n          12490.0\n        ],\n        \"semantic_type\": \"\",\n        \"description\": \"\"\n      }\n    },\n    {\n      \"column\": \"Country\",\n      \"properties\": {\n        \"dtype\": \"category\",\n        \"num_unique_values\": 1,\n        \"samples\": [\n          \"France\"\n        ],\n        \"semantic_type\": \"\",\n        \"description\": \"\"\n      }\n    }\n  ]\n}"
            }
          },
          "metadata": {},
          "execution_count": 8
        }
      ]
    },
    {
      "cell_type": "markdown",
      "source": [
        "## Определение типов переменных"
      ],
      "metadata": {
        "id": "tm8i1hZ4A5lu"
      }
    },
    {
      "cell_type": "markdown",
      "source": [],
      "metadata": {
        "id": "0XVXA7LmA7fM"
      }
    },
    {
      "cell_type": "code",
      "source": [
        "# Список столбцов и их типов данных\n",
        "print(df.dtypes)"
      ],
      "metadata": {
        "colab": {
          "base_uri": "https://localhost:8080/"
        },
        "id": "OOIfnW3OAbZ-",
        "outputId": "0f31b757-b92c-48ec-880b-bd7fdd6f969c"
      },
      "execution_count": 9,
      "outputs": [
        {
          "output_type": "stream",
          "name": "stdout",
          "text": [
            "InvoiceNo       object\n",
            "StockCode       object\n",
            "Description     object\n",
            "Quantity         int64\n",
            "InvoiceDate     object\n",
            "UnitPrice      float64\n",
            "CustomerID     float64\n",
            "Country         object\n",
            "dtype: object\n"
          ]
        }
      ]
    },
    {
      "cell_type": "markdown",
      "source": [
        "- Числовые переменные обычно имеют тип int64 или float64.\n",
        "- Категориальные переменные могут иметь тип object или category, но иногда целочисленные переменные также могут быть категориальными (например, метки классов)."
      ],
      "metadata": {
        "id": "D6K8rKQkBBTx"
      }
    },
    {
      "cell_type": "markdown",
      "source": [
        "**Почему целые числа могут быть категориальными**?"
      ],
      "metadata": {
        "id": "6ePNxVMIBNAX"
      }
    },
    {
      "cell_type": "markdown",
      "source": [
        "\n",
        "   ### Объяснение:\n",
        "   ```\n",
        "   Целочисленные переменные, такие как `Class`, могут представлять категории\n",
        "   (например, тип вина) вместо количественных значений.\n",
        "   В таких случаях они используются как метки классов, а не как числовые данные.\n",
        "   ```"
      ],
      "metadata": {
        "id": "pud5HW85BK4u"
      }
    },
    {
      "cell_type": "markdown",
      "source": [
        "## Статистический разбор данных"
      ],
      "metadata": {
        "id": "eiFQUgHECLP_"
      }
    },
    {
      "cell_type": "markdown",
      "source": [
        "1. **Посчитайте количество уникальных значений для каждой переменной:**"
      ],
      "metadata": {
        "id": "MbYwHh_gCseY"
      }
    },
    {
      "cell_type": "code",
      "source": [
        "# Количество уникальных значений\n",
        "for column in df.columns:\n",
        "    print(f'{column}: {df[column].nunique()} уникальных значений')"
      ],
      "metadata": {
        "colab": {
          "base_uri": "https://localhost:8080/"
        },
        "id": "U7YqAEKUBmhf",
        "outputId": "3c683831-f8d5-45c1-a60a-9decd5e6aa83"
      },
      "execution_count": 10,
      "outputs": [
        {
          "output_type": "stream",
          "name": "stdout",
          "text": [
            "InvoiceNo: 461 уникальных значений\n",
            "StockCode: 1543 уникальных значений\n",
            "Description: 1565 уникальных значений\n",
            "Quantity: 77 уникальных значений\n",
            "InvoiceDate: 461 уникальных значений\n",
            "UnitPrice: 97 уникальных значений\n",
            "CustomerID: 87 уникальных значений\n",
            "Country: 1 уникальных значений\n"
          ]
        }
      ]
    },
    {
      "cell_type": "markdown",
      "source": [
        "2. **Определите, какие переменные являются непрерывными, а какие дискретными:**\n",
        "\n",
        "   - **Непрерывные переменные:** могут принимать любое значение в диапазоне.\n",
        "   - **Дискретные переменные:** принимают только определенные значения (обычно целые числа).\n",
        "\n",
        "   **Ваши ответы:**\n",
        "\n",
        "   - **Непрерывные переменные:**\n",
        "     - `Quantity, UnitPrice` ⏰\n",
        "   \n",
        "   - **Дискретные переменные:**\n",
        "     - `InvoiceNo, StockCode, Description, InvoiceDate, CustomerID, Country` ⏰"
      ],
      "metadata": {
        "id": "qxTEAKDYCvkX"
      }
    },
    {
      "cell_type": "markdown",
      "source": [
        "3. **Посмотрите на статистические показатели и сделайте выводы о распределении переменных:**"
      ],
      "metadata": {
        "id": "UyZC2Uc1C0Zf"
      }
    },
    {
      "cell_type": "code",
      "source": [
        "   # Статистический разбор\n",
        "df.describe()"
      ],
      "metadata": {
        "colab": {
          "base_uri": "https://localhost:8080/",
          "height": 297
        },
        "id": "KavTuUGxC28e",
        "outputId": "522d54b6-f8ed-4967-cf4f-bbf463e3eecc"
      },
      "execution_count": 15,
      "outputs": [
        {
          "output_type": "execute_result",
          "data": {
            "text/plain": [
              "          Quantity    UnitPrice    CustomerID\n",
              "count  8557.000000  8557.000000   8491.000000\n",
              "mean     12.911067     5.028864  12677.995996\n",
              "std      21.425031    79.909126    276.742088\n",
              "min    -250.000000     0.000000  12413.000000\n",
              "25%       5.000000     1.250000  12571.000000\n",
              "50%      10.000000     1.790000  12674.000000\n",
              "75%      12.000000     3.750000  12689.000000\n",
              "max     912.000000  4161.060000  14277.000000"
            ],
            "text/html": [
              "\n",
              "  <div id=\"df-4c09b443-963e-46f2-a782-404a767abbbc\" class=\"colab-df-container\">\n",
              "    <div>\n",
              "<style scoped>\n",
              "    .dataframe tbody tr th:only-of-type {\n",
              "        vertical-align: middle;\n",
              "    }\n",
              "\n",
              "    .dataframe tbody tr th {\n",
              "        vertical-align: top;\n",
              "    }\n",
              "\n",
              "    .dataframe thead th {\n",
              "        text-align: right;\n",
              "    }\n",
              "</style>\n",
              "<table border=\"1\" class=\"dataframe\">\n",
              "  <thead>\n",
              "    <tr style=\"text-align: right;\">\n",
              "      <th></th>\n",
              "      <th>Quantity</th>\n",
              "      <th>UnitPrice</th>\n",
              "      <th>CustomerID</th>\n",
              "    </tr>\n",
              "  </thead>\n",
              "  <tbody>\n",
              "    <tr>\n",
              "      <th>count</th>\n",
              "      <td>8557.000000</td>\n",
              "      <td>8557.000000</td>\n",
              "      <td>8491.000000</td>\n",
              "    </tr>\n",
              "    <tr>\n",
              "      <th>mean</th>\n",
              "      <td>12.911067</td>\n",
              "      <td>5.028864</td>\n",
              "      <td>12677.995996</td>\n",
              "    </tr>\n",
              "    <tr>\n",
              "      <th>std</th>\n",
              "      <td>21.425031</td>\n",
              "      <td>79.909126</td>\n",
              "      <td>276.742088</td>\n",
              "    </tr>\n",
              "    <tr>\n",
              "      <th>min</th>\n",
              "      <td>-250.000000</td>\n",
              "      <td>0.000000</td>\n",
              "      <td>12413.000000</td>\n",
              "    </tr>\n",
              "    <tr>\n",
              "      <th>25%</th>\n",
              "      <td>5.000000</td>\n",
              "      <td>1.250000</td>\n",
              "      <td>12571.000000</td>\n",
              "    </tr>\n",
              "    <tr>\n",
              "      <th>50%</th>\n",
              "      <td>10.000000</td>\n",
              "      <td>1.790000</td>\n",
              "      <td>12674.000000</td>\n",
              "    </tr>\n",
              "    <tr>\n",
              "      <th>75%</th>\n",
              "      <td>12.000000</td>\n",
              "      <td>3.750000</td>\n",
              "      <td>12689.000000</td>\n",
              "    </tr>\n",
              "    <tr>\n",
              "      <th>max</th>\n",
              "      <td>912.000000</td>\n",
              "      <td>4161.060000</td>\n",
              "      <td>14277.000000</td>\n",
              "    </tr>\n",
              "  </tbody>\n",
              "</table>\n",
              "</div>\n",
              "    <div class=\"colab-df-buttons\">\n",
              "\n",
              "  <div class=\"colab-df-container\">\n",
              "    <button class=\"colab-df-convert\" onclick=\"convertToInteractive('df-4c09b443-963e-46f2-a782-404a767abbbc')\"\n",
              "            title=\"Convert this dataframe to an interactive table.\"\n",
              "            style=\"display:none;\">\n",
              "\n",
              "  <svg xmlns=\"http://www.w3.org/2000/svg\" height=\"24px\" viewBox=\"0 -960 960 960\">\n",
              "    <path d=\"M120-120v-720h720v720H120Zm60-500h600v-160H180v160Zm220 220h160v-160H400v160Zm0 220h160v-160H400v160ZM180-400h160v-160H180v160Zm440 0h160v-160H620v160ZM180-180h160v-160H180v160Zm440 0h160v-160H620v160Z\"/>\n",
              "  </svg>\n",
              "    </button>\n",
              "\n",
              "  <style>\n",
              "    .colab-df-container {\n",
              "      display:flex;\n",
              "      gap: 12px;\n",
              "    }\n",
              "\n",
              "    .colab-df-convert {\n",
              "      background-color: #E8F0FE;\n",
              "      border: none;\n",
              "      border-radius: 50%;\n",
              "      cursor: pointer;\n",
              "      display: none;\n",
              "      fill: #1967D2;\n",
              "      height: 32px;\n",
              "      padding: 0 0 0 0;\n",
              "      width: 32px;\n",
              "    }\n",
              "\n",
              "    .colab-df-convert:hover {\n",
              "      background-color: #E2EBFA;\n",
              "      box-shadow: 0px 1px 2px rgba(60, 64, 67, 0.3), 0px 1px 3px 1px rgba(60, 64, 67, 0.15);\n",
              "      fill: #174EA6;\n",
              "    }\n",
              "\n",
              "    .colab-df-buttons div {\n",
              "      margin-bottom: 4px;\n",
              "    }\n",
              "\n",
              "    [theme=dark] .colab-df-convert {\n",
              "      background-color: #3B4455;\n",
              "      fill: #D2E3FC;\n",
              "    }\n",
              "\n",
              "    [theme=dark] .colab-df-convert:hover {\n",
              "      background-color: #434B5C;\n",
              "      box-shadow: 0px 1px 3px 1px rgba(0, 0, 0, 0.15);\n",
              "      filter: drop-shadow(0px 1px 2px rgba(0, 0, 0, 0.3));\n",
              "      fill: #FFFFFF;\n",
              "    }\n",
              "  </style>\n",
              "\n",
              "    <script>\n",
              "      const buttonEl =\n",
              "        document.querySelector('#df-4c09b443-963e-46f2-a782-404a767abbbc button.colab-df-convert');\n",
              "      buttonEl.style.display =\n",
              "        google.colab.kernel.accessAllowed ? 'block' : 'none';\n",
              "\n",
              "      async function convertToInteractive(key) {\n",
              "        const element = document.querySelector('#df-4c09b443-963e-46f2-a782-404a767abbbc');\n",
              "        const dataTable =\n",
              "          await google.colab.kernel.invokeFunction('convertToInteractive',\n",
              "                                                    [key], {});\n",
              "        if (!dataTable) return;\n",
              "\n",
              "        const docLinkHtml = 'Like what you see? Visit the ' +\n",
              "          '<a target=\"_blank\" href=https://colab.research.google.com/notebooks/data_table.ipynb>data table notebook</a>'\n",
              "          + ' to learn more about interactive tables.';\n",
              "        element.innerHTML = '';\n",
              "        dataTable['output_type'] = 'display_data';\n",
              "        await google.colab.output.renderOutput(dataTable, element);\n",
              "        const docLink = document.createElement('div');\n",
              "        docLink.innerHTML = docLinkHtml;\n",
              "        element.appendChild(docLink);\n",
              "      }\n",
              "    </script>\n",
              "  </div>\n",
              "\n",
              "\n",
              "<div id=\"df-987dc12b-d639-4a97-a275-18de8b37baf9\">\n",
              "  <button class=\"colab-df-quickchart\" onclick=\"quickchart('df-987dc12b-d639-4a97-a275-18de8b37baf9')\"\n",
              "            title=\"Suggest charts\"\n",
              "            style=\"display:none;\">\n",
              "\n",
              "<svg xmlns=\"http://www.w3.org/2000/svg\" height=\"24px\"viewBox=\"0 0 24 24\"\n",
              "     width=\"24px\">\n",
              "    <g>\n",
              "        <path d=\"M19 3H5c-1.1 0-2 .9-2 2v14c0 1.1.9 2 2 2h14c1.1 0 2-.9 2-2V5c0-1.1-.9-2-2-2zM9 17H7v-7h2v7zm4 0h-2V7h2v10zm4 0h-2v-4h2v4z\"/>\n",
              "    </g>\n",
              "</svg>\n",
              "  </button>\n",
              "\n",
              "<style>\n",
              "  .colab-df-quickchart {\n",
              "      --bg-color: #E8F0FE;\n",
              "      --fill-color: #1967D2;\n",
              "      --hover-bg-color: #E2EBFA;\n",
              "      --hover-fill-color: #174EA6;\n",
              "      --disabled-fill-color: #AAA;\n",
              "      --disabled-bg-color: #DDD;\n",
              "  }\n",
              "\n",
              "  [theme=dark] .colab-df-quickchart {\n",
              "      --bg-color: #3B4455;\n",
              "      --fill-color: #D2E3FC;\n",
              "      --hover-bg-color: #434B5C;\n",
              "      --hover-fill-color: #FFFFFF;\n",
              "      --disabled-bg-color: #3B4455;\n",
              "      --disabled-fill-color: #666;\n",
              "  }\n",
              "\n",
              "  .colab-df-quickchart {\n",
              "    background-color: var(--bg-color);\n",
              "    border: none;\n",
              "    border-radius: 50%;\n",
              "    cursor: pointer;\n",
              "    display: none;\n",
              "    fill: var(--fill-color);\n",
              "    height: 32px;\n",
              "    padding: 0;\n",
              "    width: 32px;\n",
              "  }\n",
              "\n",
              "  .colab-df-quickchart:hover {\n",
              "    background-color: var(--hover-bg-color);\n",
              "    box-shadow: 0 1px 2px rgba(60, 64, 67, 0.3), 0 1px 3px 1px rgba(60, 64, 67, 0.15);\n",
              "    fill: var(--button-hover-fill-color);\n",
              "  }\n",
              "\n",
              "  .colab-df-quickchart-complete:disabled,\n",
              "  .colab-df-quickchart-complete:disabled:hover {\n",
              "    background-color: var(--disabled-bg-color);\n",
              "    fill: var(--disabled-fill-color);\n",
              "    box-shadow: none;\n",
              "  }\n",
              "\n",
              "  .colab-df-spinner {\n",
              "    border: 2px solid var(--fill-color);\n",
              "    border-color: transparent;\n",
              "    border-bottom-color: var(--fill-color);\n",
              "    animation:\n",
              "      spin 1s steps(1) infinite;\n",
              "  }\n",
              "\n",
              "  @keyframes spin {\n",
              "    0% {\n",
              "      border-color: transparent;\n",
              "      border-bottom-color: var(--fill-color);\n",
              "      border-left-color: var(--fill-color);\n",
              "    }\n",
              "    20% {\n",
              "      border-color: transparent;\n",
              "      border-left-color: var(--fill-color);\n",
              "      border-top-color: var(--fill-color);\n",
              "    }\n",
              "    30% {\n",
              "      border-color: transparent;\n",
              "      border-left-color: var(--fill-color);\n",
              "      border-top-color: var(--fill-color);\n",
              "      border-right-color: var(--fill-color);\n",
              "    }\n",
              "    40% {\n",
              "      border-color: transparent;\n",
              "      border-right-color: var(--fill-color);\n",
              "      border-top-color: var(--fill-color);\n",
              "    }\n",
              "    60% {\n",
              "      border-color: transparent;\n",
              "      border-right-color: var(--fill-color);\n",
              "    }\n",
              "    80% {\n",
              "      border-color: transparent;\n",
              "      border-right-color: var(--fill-color);\n",
              "      border-bottom-color: var(--fill-color);\n",
              "    }\n",
              "    90% {\n",
              "      border-color: transparent;\n",
              "      border-bottom-color: var(--fill-color);\n",
              "    }\n",
              "  }\n",
              "</style>\n",
              "\n",
              "  <script>\n",
              "    async function quickchart(key) {\n",
              "      const quickchartButtonEl =\n",
              "        document.querySelector('#' + key + ' button');\n",
              "      quickchartButtonEl.disabled = true;  // To prevent multiple clicks.\n",
              "      quickchartButtonEl.classList.add('colab-df-spinner');\n",
              "      try {\n",
              "        const charts = await google.colab.kernel.invokeFunction(\n",
              "            'suggestCharts', [key], {});\n",
              "      } catch (error) {\n",
              "        console.error('Error during call to suggestCharts:', error);\n",
              "      }\n",
              "      quickchartButtonEl.classList.remove('colab-df-spinner');\n",
              "      quickchartButtonEl.classList.add('colab-df-quickchart-complete');\n",
              "    }\n",
              "    (() => {\n",
              "      let quickchartButtonEl =\n",
              "        document.querySelector('#df-987dc12b-d639-4a97-a275-18de8b37baf9 button');\n",
              "      quickchartButtonEl.style.display =\n",
              "        google.colab.kernel.accessAllowed ? 'block' : 'none';\n",
              "    })();\n",
              "  </script>\n",
              "</div>\n",
              "    </div>\n",
              "  </div>\n"
            ],
            "application/vnd.google.colaboratory.intrinsic+json": {
              "type": "dataframe",
              "summary": "{\n  \"name\": \"df\",\n  \"rows\": 8,\n  \"fields\": [\n    {\n      \"column\": \"Quantity\",\n      \"properties\": {\n        \"dtype\": \"number\",\n        \"std\": 3008.364718738409,\n        \"min\": -250.0,\n        \"max\": 8557.0,\n        \"num_unique_values\": 8,\n        \"samples\": [\n          12.91106696272058,\n          10.0,\n          8557.0\n        ],\n        \"semantic_type\": \"\",\n        \"description\": \"\"\n      }\n    },\n    {\n      \"column\": \"UnitPrice\",\n      \"properties\": {\n        \"dtype\": \"number\",\n        \"std\": 3162.9950853079813,\n        \"min\": 0.0,\n        \"max\": 8557.0,\n        \"num_unique_values\": 8,\n        \"samples\": [\n          5.028864087881266,\n          1.79,\n          8557.0\n        ],\n        \"semantic_type\": \"\",\n        \"description\": \"\"\n      }\n    },\n    {\n      \"column\": \"CustomerID\",\n      \"properties\": {\n        \"dtype\": \"number\",\n        \"std\": 4543.309192433561,\n        \"min\": 276.7420879779668,\n        \"max\": 14277.0,\n        \"num_unique_values\": 8,\n        \"samples\": [\n          12677.995995760217,\n          12674.0,\n          8491.0\n        ],\n        \"semantic_type\": \"\",\n        \"description\": \"\"\n      }\n    }\n  ]\n}"
            }
          },
          "metadata": {},
          "execution_count": 15
        }
      ]
    },
    {
      "cell_type": "markdown",
      "source": [
        "   **Ваши наблюдения:**\n",
        "   \n",
        "   ВАЖНО! ⏰\n",
        "   **```В Country всего одно уникальное значение, оно категориальное и это \"France\". Впринципе InvoiceNo, StockCode, Description, InvoiceDate все являются категориальными, а оставшиеся это числовые. Quantity скорее всего целые, потому что обозначает количество. CustomerID тоже, айдишники тоже целые обычно. UnitPrice может быть и дробным, маркетологи 3,99 всегда напишут. Количество CustomerID отличается от количества строк, соответственно в таблице присутствуют позиции, у которых это значение пустое. Из всех трех значений наименьшее отклонение от среднего имеет показатель Quantity, а наибольший - CustomerID. По квантилям видно, что в Quantity и UnitPrice присутствуют \"мусорные значения\" сильно отклоняющиеся от среднестатистических.  ```**"
      ],
      "metadata": {
        "id": "pu48XMD9C5bo"
      }
    },
    {
      "cell_type": "markdown",
      "source": [
        "```# тут```"
      ],
      "metadata": {
        "id": "tnN5_5ViFHk5"
      }
    },
    {
      "cell_type": "markdown",
      "source": [
        "## **4. Визуализация распределения переменных**\n",
        "\n",
        "### **Описание:**\n",
        "Создайте визуализации для понимания распределения числовых и категориальных переменных.\n",
        "\n",
        "### **Шаги:**\n"
      ],
      "metadata": {
        "id": "YmWlNDdjDh7G"
      }
    },
    {
      "cell_type": "markdown",
      "source": [
        "1. **Гистограмма для числовой переменной `Quantity`:**"
      ],
      "metadata": {
        "id": "7U-U04OFDlLr"
      }
    },
    {
      "cell_type": "code",
      "source": [
        "   sns.histplot(df['Quantity'], kde=True)\n",
        "   plt.title('Распределение Quantity')\n",
        "   plt.xlabel('Quantity')\n",
        "   plt.ylabel('Частота')\n",
        "   plt.show()"
      ],
      "metadata": {
        "id": "MyuMx_RlDl1y",
        "colab": {
          "base_uri": "https://localhost:8080/",
          "height": 472
        },
        "outputId": "3ff7c812-a9ec-4264-932d-715b586a85aa"
      },
      "execution_count": 12,
      "outputs": [
        {
          "output_type": "display_data",
          "data": {
            "text/plain": [
              "<Figure size 640x480 with 1 Axes>"
            ],
            "image/png": "[encoded data removed]"
          },
          "metadata": {}
        }
      ]
    },
    {
      "cell_type": "markdown",
      "source": [
        "2. **Столбчатая диаграмма для категориальной переменной `CustomerID`:**"
      ],
      "metadata": {
        "id": "xl44MN9qDnv9"
      }
    },
    {
      "cell_type": "code",
      "source": [
        "   sns.countplot(x='CustomerID', data=df)\n",
        "   plt.title('Распределение CustomerID')\n",
        "   plt.xlabel('CustomerID')\n",
        "   plt.ylabel('Количество')\n",
        "   plt.show()"
      ],
      "metadata": {
        "colab": {
          "base_uri": "https://localhost:8080/",
          "height": 472
        },
        "id": "S4PxrTMQDoyZ",
        "outputId": "38d46d08-ae4a-49a5-dc3a-cec543d89f3f"
      },
      "execution_count": 13,
      "outputs": [
        {
          "output_type": "display_data",
          "data": {
            "text/plain": [
              "<Figure size 640x480 with 1 Axes>"
            ],
            "image/png": "[encoded data removed]"
          },
          "metadata": {}
        }
      ]
    },
    {
      "cell_type": "markdown",
      "source": [
        "**Боксплот для числовой переменной `UnitPrice`:**"
      ],
      "metadata": {
        "id": "A_u0EaAxDpdY"
      }
    },
    {
      "cell_type": "code",
      "source": [
        "   sns.boxplot(x=df['UnitPrice'])\n",
        "   plt.title('Boxplot UnitPrice')\n",
        "   plt.xlabel('UnitPrice')\n",
        "   plt.show()"
      ],
      "metadata": {
        "colab": {
          "base_uri": "https://localhost:8080/",
          "height": 472
        },
        "id": "Au59-9x8DsYS",
        "outputId": "d7c20f2c-467d-43b4-f6d2-812b6afce367"
      },
      "execution_count": 14,
      "outputs": [
        {
          "output_type": "display_data",
          "data": {
            "text/plain": [
              "<Figure size 640x480 with 1 Axes>"
            ],
            "image/png": "[encoded data removed]"
          },
          "metadata": {}
        }
      ]
    },
    {
      "cell_type": "markdown",
      "source": [
        "   **Ваши наблюдения:**\n",
        "   \n",
        "   ВАЖНО! ⏰\n",
        "   **```Проанализировав визуализации распределния переменных можно сделать следующие выводы. Quantity: если не брать в учет \"мусорные\" значения, то можно разглядеть нормальное распределение; CustomerID: тут я просто вижу, что есть клиенты, которые многократно покупают вина, очень мало тех, кто купил вино меньше 10 раз. Один вообще более 600; UnitPrice: видно, что из-за \"мусорных\" значений график получился очень странным и по нему нельзя сделать четких выводов. Просто видно, что в основном, значения лежат в диапазоне от 0 до 5-10.```**\n",
        "   \n",
        "   p.s. если знаете контекст, то можете описать"
      ],
      "metadata": {
        "id": "YkkhU8qNQiNu"
      }
    },
    {
      "cell_type": "markdown",
      "source": [
        "```# тут```"
      ],
      "metadata": {
        "id": "IBi2LsQbWvCI"
      }
    },
    {
      "cell_type": "markdown",
      "source": [
        "## **5. Дополнительное задание** ⏰ (не обязательное, но полезное)\n",
        "\n",
        "### **Описание:**\n",
        "Для тех, кто хочет углубить свои знания и навыки, выполните дополнительное задание ниже.\n",
        "\n",
        "### **Задание:**"
      ],
      "metadata": {
        "id": "B1bbdRrWD7iZ"
      }
    },
    {
      "cell_type": "markdown",
      "source": [
        "**Постройте корреляционную матрицу для всех числовых переменных и визуализируйте её с помощью тепловой карты:**"
      ],
      "metadata": {
        "id": "f59wNH9vEBCj"
      }
    },
    {
      "cell_type": "code",
      "source": [
        "   # Корреляционная матрица\n",
        "  #  df = df.drop('InvoiceNo', axis=1)\n",
        "  #  df = df.drop('StockCode', axis=1)\n",
        "  #  df = df.drop('Description', axis=1)\n",
        "  #  df = df.drop('InvoiceDate', axis=1)\n",
        "  #  df = df.drop('Country', axis=1)\n",
        "   df = df.drop(columns=['InvoiceNo','StockCode','Description','InvoiceDate','Country'])\n",
        "   correlation_matrix = df.corr()\n",
        "   # Визуализация тепловой карты\n",
        "   sns.heatmap(df.corr(), cmap='coolwarm', annot=True)\n",
        "   plt.title('Корреляционная матрица')\n",
        "   plt.show()"
      ],
      "metadata": {
        "colab": {
          "base_uri": "https://localhost:8080/",
          "height": 452
        },
        "id": "hjoJf7vbEDtY",
        "outputId": "ef3c9670-0702-4cbf-e3ba-7e949a7c99cd"
      },
      "execution_count": 36,
      "outputs": [
        {
          "output_type": "display_data",
          "data": {
            "text/plain": [
              "<Figure size 640x480 with 2 Axes>"
            ],
            "image/png": "[encoded data removed]"
          },
          "metadata": {}
        }
      ]
    },
    {
      "cell_type": "code",
      "source": [
        "# Если будут ошибки ValueError из-за could not conver string to float\n",
        "df = df.drop('type', axis=1)\n",
        "# найти колонку, из-за которой ничего не получается,\n",
        "# можно найти по object из df.info()"
      ],
      "metadata": {
        "id": "6tI82fozG1wk"
      },
      "execution_count": null,
      "outputs": []
    },
    {
      "cell_type": "markdown",
      "source": [
        "2. **Интерпретируйте полученную корреляционную матрицу:**\n",
        "   \n",
        "   - Какие переменные имеют сильную положительную корреляцию?\n",
        "   - Какие переменные имеют сильную отрицательную корреляцию?\n",
        "   - Какие переменные практически некоррелированы?\n",
        "\n",
        "   **Ваши ответы:**\n",
        "   \n",
        "   - **Сильная положительная корреляция:**\n",
        "     - `___`\n",
        "   \n",
        "   - **Сильная отрицательная корреляция:**\n",
        "     - `___`\n",
        "   \n",
        "   - **Практически некоррелированные переменные:**\n",
        "     - `Quantity и UnitPrice, Quantity и CustomerID, UnitPrice и CustomerID`"
      ],
      "metadata": {
        "id": "Fv0XQxXrEGFb"
      }
    },
    {
      "cell_type": "markdown",
      "source": [
        "**Определите, какие переменные можно потенциально исключить из дальнейшего анализа из-за высокой корреляции:**\n",
        "   \n",
        "   **Ваши ответы:**\n",
        "   \n",
        "   - `В моем датасете отсутствуют переменные с высокой корреляцией`"
      ],
      "metadata": {
        "id": "9ks1q6K_EInx"
      }
    },
    {
      "cell_type": "markdown",
      "source": [
        "## **Заключение**\n",
        "\n",
        "В этом задании вы научились загружать и исследовать набор данных, определять типы переменных, проводить статистический разбор и визуализировать распределение данных. Эти навыки являются фундаментальными для дальнейшего анализа данных и построения моделей машинного обучения."
      ],
      "metadata": {
        "id": "6hG7m031IMN_"
      }
    },
    {
      "cell_type": "markdown",
      "source": [
        "## По желанию\n",
        "#### Опишите, что вы поняли из практики, и на чем стоит сфокусироваться, или общие впечатления\n",
        "\n",
        "## https://forms.yandex.ru/u/66e83a1ef47e73e9432f7e4f/"
      ],
      "metadata": {
        "id": "rpwjPg2gIPGa"
      }
    },
    {
      "cell_type": "markdown",
      "source": [
        "\n",
        "\n",
        "## **Рекомендации по выполнению задания:**\n",
        "\n",
        "- **Убедитесь, что все необходимые библиотеки установлены и импортированы.**\n",
        "- **Проверяйте правильность путей к файлам при загрузке данных.**\n",
        "- **Используйте комментарии для объяснения своих действий в коде.**\n",
        "- **Документируйте свои выводы и наблюдения в текстовых ячейках.**\n",
        "- **У вас могут быть ошибки, с которыми вы не сталкивались, в таком случае можете кинуть в чат и кто-нибудь из коллег (включая меня) могут помочь**\n",
        "\n",
        "---"
      ],
      "metadata": {
        "id": "sVbfh3JeEUhA"
      }
    },
    {
      "cell_type": "markdown",
      "source": [
        "# Требования\n",
        "\n",
        "1. Не забываем про ⏰\n",
        "2. Итоговая тетрадка jupyter должна быть на вашем github (нет тетрадки, нет проверки)"
      ],
      "metadata": {
        "id": "NP_Sym3cQE3M"
      }
    }
  ]
}